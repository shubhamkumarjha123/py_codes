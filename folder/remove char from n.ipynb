{
 "cells": [
  {
   "cell_type": "markdown",
   "id": "019b30cf",
   "metadata": {},
   "source": [
    "# Given a string and an integer number n, remove characters from a string starting from zero up to n and return a new string"
   ]
  },
  {
   "cell_type": "code",
   "execution_count": 2,
   "id": "654a9c54",
   "metadata": {},
   "outputs": [
    {
     "name": "stdout",
     "output_type": "stream",
     "text": [
      "Enter a word : goodmorning\n",
      "Enter no : 4\n",
      "String left after entered no : morning\n"
     ]
    }
   ],
   "source": [
    "s=input(\"Enter a word : \")\n",
    "b=int(input(\"Enter no : \"))\n",
    "print(\"String left after entered no :\" ,s[b:])"
   ]
  }
 ],
 "metadata": {
  "kernelspec": {
   "display_name": "Python 3",
   "language": "python",
   "name": "python3"
  },
  "language_info": {
   "codemirror_mode": {
    "name": "ipython",
    "version": 3
   },
   "file_extension": ".py",
   "mimetype": "text/x-python",
   "name": "python",
   "nbconvert_exporter": "python",
   "pygments_lexer": "ipython3",
   "version": "3.8.8"
  }
 },
 "nbformat": 4,
 "nbformat_minor": 5
}
