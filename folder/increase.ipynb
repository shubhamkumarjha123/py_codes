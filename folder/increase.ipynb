number += 1 //assigning
count += 1 //assigning


print("INCREMENTED FOR LOOP")// printing inc
for i in range(0, 5): //loop till 5
   print(i) // printing i value
print("\n DECREMENTED FOR LOOP") // printing dec
for i in range(4, -1, -1): //taking loop
   print(i) // printing i value
