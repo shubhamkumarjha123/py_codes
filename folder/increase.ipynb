number += 1
count += 1
print("INCREMENTED FOR LOOP") 
for i in range(0, 5): 
   print(i) 
print("\n DECREMENTED FOR LOOP") 
for i in range(4, -1, -1): 
   print(i) 
