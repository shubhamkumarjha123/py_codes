{
 "cells": [
  {
   "cell_type": "markdown",
   "id": "43e8b171",
   "metadata": {},
   "source": [
    "# For a list print which are divisible of 5"
   ]
  },
  {
   "cell_type": "code",
   "execution_count": 3,
   "id": "93223a09",
   "metadata": {},
   "outputs": [
    {
     "name": "stdout",
     "output_type": "stream",
     "text": [
      "Given list is  [5, 43, 22, 75, 29]\n",
      "Divisible of 5 in a list\n",
      "5\n",
      "75\n"
     ]
    }
   ],
   "source": [
    "def fndDiv(numList):\n",
    "    print(\"Given list is \", numList)\n",
    "    print(\"Divisible of 5 in a list\")\n",
    "    for num in numList:\n",
    "        if (num % 5 == 0):\n",
    "            print(num)\n",
    "\n",
    "List =[5, 43, 22, 75, 29]\n",
    "fndDiv(List)"
   ]
  }
 ],
 "metadata": {
  "kernelspec": {
   "display_name": "Python 3",
   "language": "python",
   "name": "python3"
  },
  "language_info": {
   "codemirror_mode": {
    "name": "ipython",
    "version": 3
   },
   "file_extension": ".py",
   "mimetype": "text/x-python",
   "name": "python",
   "nbconvert_exporter": "python",
   "pygments_lexer": "ipython3",
   "version": "3.8.8"
  }
 },
 "nbformat": 4,
 "nbformat_minor": 5
}
