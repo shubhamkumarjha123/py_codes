{
 "cells": [
  {
   "cell_type": "markdown",
   "id": "d251442a",
   "metadata": {},
   "source": [
    "# Print pattern\n"
   ]
  },
  {
   "cell_type": "markdown",
   "id": "c2dea914",
   "metadata": {},
   "source": [
    "111111111                                                                   \n",
    "22222222                                                                                                        \n",
    "3333333                                                                                              \n",
    "444444                                                                                                       \n",
    "55555               \n",
    "6666                                                                            \n",
    "777                                                                                 \n",
    "88                                                                           \n",
    "9                           "
   ]
  },
  {
   "cell_type": "code",
   "execution_count": 11,
   "id": "05874e91",
   "metadata": {},
   "outputs": [
    {
     "name": "stdout",
     "output_type": "stream",
     "text": [
      "1 1 1 1 1 1 1 1 1 \r\n",
      "2 2 2 2 2 2 2 2 \r\n",
      "3 3 3 3 3 3 3 \r\n",
      "4 4 4 4 4 4 \r\n",
      "5 5 5 5 5 \r\n",
      "6 6 6 6 \r\n",
      "7 7 7 \r\n",
      "8 8 \r\n",
      "9 \r\n"
     ]
    }
   ],
   "source": [
    "row = 9\n",
    "y = 0\n",
    "# reversing loop i.e 9 to 0\n",
    "for i in range(row, 0, -1):\n",
    "    y += 1\n",
    "    for j in range(1, i + 1):\n",
    "        print(y, end=' ')\n",
    "    print('\\r')"
   ]
  },
  {
   "cell_type": "code",
   "execution_count": null,
   "id": "40deb7c5",
   "metadata": {},
   "outputs": [],
   "source": []
  }
 ],
 "metadata": {
  "kernelspec": {
   "display_name": "Python 3",
   "language": "python",
   "name": "python3"
  },
  "language_info": {
   "codemirror_mode": {
    "name": "ipython",
    "version": 3
   },
   "file_extension": ".py",
   "mimetype": "text/x-python",
   "name": "python",
   "nbconvert_exporter": "python",
   "pygments_lexer": "ipython3",
   "version": "3.8.8"
  }
 },
 "nbformat": 4,
 "nbformat_minor": 5
}
