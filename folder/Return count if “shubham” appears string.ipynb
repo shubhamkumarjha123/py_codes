{
 "cells": [
  {
   "cell_type": "markdown",
   "id": "6ac20d8a",
   "metadata": {},
   "source": [
    "# Return count if “shubham” appears string"
   ]
  },
  {
   "cell_type": "code",
   "execution_count": 1,
   "id": "f66b26f9",
   "metadata": {},
   "outputs": [
    {
     "name": "stdout",
     "output_type": "stream",
     "text": [
      "2\n"
     ]
    }
   ],
   "source": [
    "s = \"shubham is good developer. shubham is a writer\"\n",
    "# use count method of a str class\n",
    "cunt = s.count(\"shubham\")\n",
    "print(cunt)"
   ]
  },
  {
   "cell_type": "code",
   "execution_count": null,
   "id": "6e29e09f",
   "metadata": {},
   "outputs": [],
   "source": []
  }
 ],
 "metadata": {
  "kernelspec": {
   "display_name": "Python 3",
   "language": "python",
   "name": "python3"
  },
  "language_info": {
   "codemirror_mode": {
    "name": "ipython",
    "version": 3
   },
   "file_extension": ".py",
   "mimetype": "text/x-python",
   "name": "python",
   "nbconvert_exporter": "python",
   "pygments_lexer": "ipython3",
   "version": "3.8.8"
  }
 },
 "nbformat": 4,
 "nbformat_minor": 5
}
