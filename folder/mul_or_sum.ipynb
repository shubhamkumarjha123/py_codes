{
 "cells": [
  {
   "cell_type": "markdown",
   "id": "0728de09",
   "metadata": {},
   "source": [
    "# Take 2 input if the product of no's is greater than 500, then return their sum otherwise return their product only"
   ]
  },
  {
   "cell_type": "code",
   "execution_count": 34,
   "id": "1fdbd928",
   "metadata": {},
   "outputs": [
    {
     "name": "stdout",
     "output_type": "stream",
     "text": [
      "Enter first number:-251\n",
      "Enter second number:-2\n",
      "Result is :- 253\n"
     ]
    }
   ],
   "source": [
    "def mul_or_sum(num1, num2):\n",
    "    # calculate product of two number\n",
    "    product = num1 * num2\n",
    "    # check if product is less then 500\n",
    "    if product <= 500:\n",
    "        return product\n",
    "    else:\n",
    "        # product is greater than 500 calculate sum\n",
    "        return num1 + num2\n",
    "\n",
    "num1 = int(input(\"Enter first number:-\"))\n",
    "num2 = int(input(\"Enter second number:-\"))\n",
    "result = mul_or_sum(num1, num2)\n",
    "print(\"Result is :-\",result) "
   ]
  }
 ],
 "metadata": {
  "kernelspec": {
   "display_name": "Python 3",
   "language": "python",
   "name": "python3"
  },
  "language_info": {
   "codemirror_mode": {
    "name": "ipython",
    "version": 3
   },
   "file_extension": ".py",
   "mimetype": "text/x-python",
   "name": "python",
   "nbconvert_exporter": "python",
   "pygments_lexer": "ipython3",
   "version": "3.8.8"
  }
 },
 "nbformat": 4,
 "nbformat_minor": 5
}
