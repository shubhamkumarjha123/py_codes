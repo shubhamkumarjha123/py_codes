{
 "cells": [
  {
   "cell_type": "markdown",
   "id": "ca5520b9",
   "metadata": {},
   "source": [
    "# Calculate income tax for the given income by adhering to the below rules"
   ]
  },
  {
   "cell_type": "code",
   "execution_count": 18,
   "id": "0b05768e",
   "metadata": {},
   "outputs": [
    {
     "name": "stdout",
     "output_type": "stream",
     "text": [
      "Given income 20000\n",
      "Total tax to pay is 1000.0\n"
     ]
    }
   ],
   "source": [
    "income = 45000\n",
    "taxPayable = 0\n",
    "print(\"Given income\", income)\n",
    "\n",
    "if income <= 10000:\n",
    "    taxPayable = 0\n",
    "elif income <= 20000:\n",
    "    taxPayable = (income - 10000) * 10 / 100\n",
    "else:\n",
    "    # first 10,000\n",
    "    taxPayable = 0\n",
    "\n",
    "    # next 10,000\n",
    "    taxPayable = 10000 * 10 / 100\n",
    "\n",
    "    # remaining\n",
    "    taxPayable += (income - 20000) * 20 / 100\n",
    "\n",
    "print(\"Total tax to pay is\", taxPayable)"
   ]
  },
  {
   "cell_type": "code",
   "execution_count": null,
   "id": "9569e659",
   "metadata": {},
   "outputs": [],
   "source": []
  }
 ],
 "metadata": {
  "kernelspec": {
   "display_name": "Python 3",
   "language": "python",
   "name": "python3"
  },
  "language_info": {
   "codemirror_mode": {
    "name": "ipython",
    "version": 3
   },
   "file_extension": ".py",
   "mimetype": "text/x-python",
   "name": "python",
   "nbconvert_exporter": "python",
   "pygments_lexer": "ipython3",
   "version": "3.8.8"
  }
 },
 "nbformat": 4,
 "nbformat_minor": 5
}
