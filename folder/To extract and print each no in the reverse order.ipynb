{
 "cells": [
  {
   "cell_type": "markdown",
   "id": "fe68e1df",
   "metadata": {},
   "source": [
    "# To extract and print each no in the reverse order"
   ]
  },
  {
   "cell_type": "code",
   "execution_count": 3,
   "id": "e27cbf35",
   "metadata": {},
   "outputs": [
    {
     "name": "stdout",
     "output_type": "stream",
     "text": [
      "12345\n",
      "Given number 12345\n",
      "5 4 3 2 1 "
     ]
    }
   ],
   "source": [
    "no = int(input())\n",
    "print(\"original number is \", no)\n",
    "while (no > 0):\n",
    "    # get the last digit\n",
    "    digit = no % 10\n",
    "    \n",
    "    # remove the last digit and repeat the loop\n",
    "    no = no // 10\n",
    "    print(digit, end=\" \")"
   ]
  },
  {
   "cell_type": "code",
   "execution_count": null,
   "id": "206b51d1",
   "metadata": {},
   "outputs": [],
   "source": []
  }
 ],
 "metadata": {
  "kernelspec": {
   "display_name": "Python 3",
   "language": "python",
   "name": "python3"
  },
  "language_info": {
   "codemirror_mode": {
    "name": "ipython",
    "version": 3
   },
   "file_extension": ".py",
   "mimetype": "text/x-python",
   "name": "python",
   "nbconvert_exporter": "python",
   "pygments_lexer": "ipython3",
   "version": "3.8.8"
  }
 },
 "nbformat": 4,
 "nbformat_minor": 5
}
