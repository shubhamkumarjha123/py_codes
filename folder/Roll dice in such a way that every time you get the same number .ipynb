{
 "cells": [
  {
   "cell_type": "markdown",
   "id": "ac0c4697",
   "metadata": {},
   "source": [
    "# Roll dice in such a way that every time you get the same number"
   ]
  },
  {
   "cell_type": "code",
   "execution_count": 20,
   "id": "cffc9012",
   "metadata": {},
   "outputs": [
    {
     "name": "stdout",
     "output_type": "stream",
     "text": [
      "Randomly selecting same number of a dice\n",
      "4\n",
      "4\n",
      "4\n",
      "4\n",
      "4\n"
     ]
    }
   ],
   "source": [
    "import random\n",
    "\n",
    "dice = [1, 2, 3, 4, 5, 6]\n",
    "print(\"Randomly selecting same number of a dice\")\n",
    "for i in range(5):\n",
    "    random.seed(25)\n",
    "    print(random.choice(dice))"
   ]
  },
  {
   "cell_type": "code",
   "execution_count": null,
   "id": "80d21b92",
   "metadata": {},
   "outputs": [],
   "source": []
  }
 ],
 "metadata": {
  "kernelspec": {
   "display_name": "Python 3",
   "language": "python",
   "name": "python3"
  },
  "language_info": {
   "codemirror_mode": {
    "name": "ipython",
    "version": 3
   },
   "file_extension": ".py",
   "mimetype": "text/x-python",
   "name": "python",
   "nbconvert_exporter": "python",
   "pygments_lexer": "ipython3",
   "version": "3.8.8"
  }
 },
 "nbformat": 4,
 "nbformat_minor": 5
}
