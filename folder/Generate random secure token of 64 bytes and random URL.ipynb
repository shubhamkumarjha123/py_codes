{
 "cells": [
  {
   "cell_type": "markdown",
   "id": "5019b205",
   "metadata": {},
   "source": [
    "# Generate random secure token of 64 bytes and random URL"
   ]
  },
  {
   "cell_type": "code",
   "execution_count": 2,
   "id": "705d13e9",
   "metadata": {},
   "outputs": [
    {
     "name": "stdout",
     "output_type": "stream",
     "text": [
      "Random secure Hexadecimal token is  14f6631938d8827eb385ab06e65c6b4b4188acc07f7f7173a46e10f3a3ecca2654ba4ebb425bdcadc7f66852967df21b98b512bf9d704fabd3f777a2399fb322\n",
      "Random secure URL is  oakpHc4BXXJDOP6bstZ9mrAED4UEZlHeDJv4jU43NObtX80mGUIwY2z2srsjWZKvrOJ5EMHB8ThE7kU0bLWIUg\n"
     ]
    }
   ],
   "source": [
    "import secrets\n",
    "\n",
    "print(\"Random secure Hexadecimal token is \", secrets.token_hex(64))\n",
    "print(\"Random secure URL is \", secrets.token_urlsafe(64))"
   ]
  },
  {
   "cell_type": "code",
   "execution_count": null,
   "id": "58c89837",
   "metadata": {},
   "outputs": [],
   "source": []
  }
 ],
 "metadata": {
  "kernelspec": {
   "display_name": "Python 3",
   "language": "python",
   "name": "python3"
  },
  "language_info": {
   "codemirror_mode": {
    "name": "ipython",
    "version": 3
   },
   "file_extension": ".py",
   "mimetype": "text/x-python",
   "name": "python",
   "nbconvert_exporter": "python",
   "pygments_lexer": "ipython3",
   "version": "3.8.8"
  }
 },
 "nbformat": 4,
 "nbformat_minor": 5
}
