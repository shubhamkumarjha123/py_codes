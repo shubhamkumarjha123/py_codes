{
 "cells": [
  {
   "cell_type": "markdown",
   "id": "04f4775f",
   "metadata": {},
   "source": [
    "# Different String Concatenation"
   ]
  },
  {
   "cell_type": "code",
   "execution_count": 8,
   "id": "f270aa11",
   "metadata": {},
   "outputs": [
    {
     "name": "stdout",
     "output_type": "stream",
     "text": [
      "[['Hello ', 'World ', 'I want to tell', 'You that', \"I'am\", 'Shubham']]\n"
     ]
    }
   ],
   "source": [
    "list1 = [\"Hello \", \"World \"]\n",
    "list2 = [\"I want to tell\", \"You that\"]\n",
    "list3 = [\"I'am\",\"Shubham\"]\n",
    "\n",
    "resList = [list1 + list2 + list3]\n",
    "print(resList)"
   ]
  },
  {
   "cell_type": "code",
   "execution_count": null,
   "id": "3f07ece7",
   "metadata": {},
   "outputs": [],
   "source": []
  }
 ],
 "metadata": {
  "kernelspec": {
   "display_name": "Python 3",
   "language": "python",
   "name": "python3"
  },
  "language_info": {
   "codemirror_mode": {
    "name": "ipython",
    "version": 3
   },
   "file_extension": ".py",
   "mimetype": "text/x-python",
   "name": "python",
   "nbconvert_exporter": "python",
   "pygments_lexer": "ipython3",
   "version": "3.8.8"
  }
 },
 "nbformat": 4,
 "nbformat_minor": 5
}
