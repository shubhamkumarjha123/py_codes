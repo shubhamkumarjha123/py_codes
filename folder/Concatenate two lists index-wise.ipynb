{
 "cells": [
  {
   "cell_type": "markdown",
   "id": "52925526",
   "metadata": {},
   "source": [
    "# Concatenate two lists index-wise"
   ]
  },
  {
   "cell_type": "code",
   "execution_count": 2,
   "id": "8990b010",
   "metadata": {},
   "outputs": [
    {
     "name": "stdout",
     "output_type": "stream",
     "text": [
      "['My', 'name', 'is', 'shubham']\n"
     ]
    }
   ],
   "source": [
    "list1 = [\"M\", \"na\", \"i\", \"shub\"] \n",
    "list2 = [\"y\", \"me\", \"s\", \"ham\"]\n",
    "list3 = [i + j for i, j in zip(list1, list2)]\n",
    "print(list3)"
   ]
  },
  {
   "cell_type": "code",
   "execution_count": null,
   "id": "e86916f4",
   "metadata": {},
   "outputs": [],
   "source": []
  }
 ],
 "metadata": {
  "kernelspec": {
   "display_name": "Python 3",
   "language": "python",
   "name": "python3"
  },
  "language_info": {
   "codemirror_mode": {
    "name": "ipython",
    "version": 3
   },
   "file_extension": ".py",
   "mimetype": "text/x-python",
   "name": "python",
   "nbconvert_exporter": "python",
   "pygments_lexer": "ipython3",
   "version": "3.8.8"
  }
 },
 "nbformat": 4,
 "nbformat_minor": 5
}
