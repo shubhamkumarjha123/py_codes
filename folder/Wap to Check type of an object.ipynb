{
 "cells": [
  {
   "cell_type": "markdown",
   "id": "158e0405",
   "metadata": {},
   "source": [
    "# Wap to Check type of an object"
   ]
  },
  {
   "cell_type": "code",
   "execution_count": 4,
   "id": "8a963d2a",
   "metadata": {},
   "outputs": [
    {
     "name": "stdout",
     "output_type": "stream",
     "text": [
      "<class '__main__.van'>\n"
     ]
    }
   ],
   "source": [
    "class Vehicle:\n",
    "    def __init__(self, name, mileage, capacity):\n",
    "        self.name = name\n",
    "        self.mileage = mileage\n",
    "        self.capacity = capacity\n",
    "\n",
    "class van(Vehicle):\n",
    "    pass\n",
    "\n",
    "School_van = van(\"School Eeco\", 12, 50)\n",
    "\n",
    "# Python's built-in type()\n",
    "print(type(School_van))"
   ]
  },
  {
   "cell_type": "code",
   "execution_count": null,
   "id": "4ac50e98",
   "metadata": {},
   "outputs": [],
   "source": []
  }
 ],
 "metadata": {
  "kernelspec": {
   "display_name": "Python 3",
   "language": "python",
   "name": "python3"
  },
  "language_info": {
   "codemirror_mode": {
    "name": "ipython",
    "version": 3
   },
   "file_extension": ".py",
   "mimetype": "text/x-python",
   "name": "python",
   "nbconvert_exporter": "python",
   "pygments_lexer": "ipython3",
   "version": "3.8.8"
  }
 },
 "nbformat": 4,
 "nbformat_minor": 5
}
