{
 "cells": [
  {
   "cell_type": "markdown",
   "id": "4f7a4d49",
   "metadata": {},
   "source": [
    "# Removal of item from list"
   ]
  },
  {
   "cell_type": "code",
   "execution_count": 7,
   "id": "06c5d567",
   "metadata": {},
   "outputs": [
    {
     "name": "stdout",
     "output_type": "stream",
     "text": [
      "[20, 15]\n",
      "[5, 20, 15, 25, 50]\n",
      "[5, 20, 15, 20, 25, 15]\n"
     ]
    }
   ],
   "source": [
    "list1 = [5, 20, 15, 20, 25, 50, 15]#take list\n",
    "\n",
    "import collections\n",
    "print([item for item, count in collections.Counter(list1).items() if count > 1])#find only duplicate item and print them\n",
    "\n",
    "list2 = list(dict.fromkeys(list1))#print each item once with help of unique dictionary value\n",
    "print(list2)\n",
    "\n",
    "def removeValue(sampleList, val):\n",
    "   return [value for value in sampleList if value != val]\n",
    "resList = removeValue(list1,50)#to remove specific value from list (like here we remove 50)\n",
    "print(resList)"
   ]
  },
  {
   "cell_type": "code",
   "execution_count": 8,
   "id": "ccc209ab",
   "metadata": {},
   "outputs": [
    {
     "name": "stdout",
     "output_type": "stream",
     "text": [
      "[11, 20]\n"
     ]
    }
   ],
   "source": [
    "a = [11, 20, 15, 20, 25, 50, 20, 20, 11]\n",
    "import collections\n",
    "print([item for item, count in collections.Counter(a).items() if count > 1])\n"
   ]
  },
  {
   "cell_type": "code",
   "execution_count": 9,
   "id": "d57055e7",
   "metadata": {},
   "outputs": [
    {
     "name": "stdout",
     "output_type": "stream",
     "text": [
      "['a', 'b', 'c']\n"
     ]
    }
   ],
   "source": [
    "list_ = [\"a\", \"b\", \"a\", \"c\", \"c\"]\n",
    "list_ = list(dict.fromkeys(list_))\n",
    "print(list_)"
   ]
  }
 ],
 "metadata": {
  "kernelspec": {
   "display_name": "Python 3",
   "language": "python",
   "name": "python3"
  },
  "language_info": {
   "codemirror_mode": {
    "name": "ipython",
    "version": 3
   },
   "file_extension": ".py",
   "mimetype": "text/x-python",
   "name": "python",
   "nbconvert_exporter": "python",
   "pygments_lexer": "ipython3",
   "version": "3.8.8"
  }
 },
 "nbformat": 4,
 "nbformat_minor": 5
}
