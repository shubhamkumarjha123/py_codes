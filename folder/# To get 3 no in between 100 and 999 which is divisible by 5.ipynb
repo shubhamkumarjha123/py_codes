{
 "cells": [
  {
   "cell_type": "markdown",
   "id": "9d67754e",
   "metadata": {},
   "source": [
    "# To get 3 no in between 100 and 999 which is divisible by 5"
   ]
  },
  {
   "cell_type": "code",
   "execution_count": 1,
   "id": "9c280134",
   "metadata": {},
   "outputs": [
    {
     "name": "stdout",
     "output_type": "stream",
     "text": [
      "370\n",
      "340\n",
      "160\n"
     ]
    }
   ],
   "source": [
    "import random\n",
    "for i in range(3):\n",
    "    print(random.randrange(100,999,5))\n",
    "    "
   ]
  },
  {
   "cell_type": "code",
   "execution_count": null,
   "id": "60713dea",
   "metadata": {},
   "outputs": [],
   "source": []
  }
 ],
 "metadata": {
  "kernelspec": {
   "display_name": "Python 3",
   "language": "python",
   "name": "python3"
  },
  "language_info": {
   "codemirror_mode": {
    "name": "ipython",
    "version": 3
   },
   "file_extension": ".py",
   "mimetype": "text/x-python",
   "name": "python",
   "nbconvert_exporter": "python",
   "pygments_lexer": "ipython3",
   "version": "3.8.8"
  }
 },
 "nbformat": 4,
 "nbformat_minor": 5
}
