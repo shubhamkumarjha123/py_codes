{
 "cells": [
  {
   "cell_type": "markdown",
   "id": "9e1b6d46",
   "metadata": {},
   "source": [
    "# convert 2 list into dictionary"
   ]
  },
  {
   "cell_type": "code",
   "execution_count": 3,
   "id": "e54c8984",
   "metadata": {},
   "outputs": [
    {
     "name": "stdout",
     "output_type": "stream",
     "text": [
      "The dictionary becomes :- {'one': 1, 'two': 2, 'three': 30}\n"
     ]
    }
   ],
   "source": [
    "keys = ['one', 'two', 'three']\n",
    "values = [1, 2, 30]\n",
    "Dicti = dict(zip(keys, values))\n",
    "print(\"The dictionary becomes :-\",Dicti)"
   ]
  },
  {
   "cell_type": "code",
   "execution_count": null,
   "id": "8ed81401",
   "metadata": {},
   "outputs": [],
   "source": []
  }
 ],
 "metadata": {
  "kernelspec": {
   "display_name": "Python 3",
   "language": "python",
   "name": "python3"
  },
  "language_info": {
   "codemirror_mode": {
    "name": "ipython",
    "version": 3
   },
   "file_extension": ".py",
   "mimetype": "text/x-python",
   "name": "python",
   "nbconvert_exporter": "python",
   "pygments_lexer": "ipython3",
   "version": "3.8.8"
  }
 },
 "nbformat": 4,
 "nbformat_minor": 5
}
