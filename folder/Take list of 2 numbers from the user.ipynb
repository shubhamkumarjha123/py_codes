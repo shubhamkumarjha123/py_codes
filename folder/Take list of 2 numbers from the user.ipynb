{
 "cells": [
  {
   "cell_type": "markdown",
   "id": "79ecb4ca",
   "metadata": {},
   "source": [
    "# Take list of 2  numbers from the user"
   ]
  },
  {
   "cell_type": "code",
   "execution_count": 13,
   "id": "a31b4f73",
   "metadata": {},
   "outputs": [
    {
     "name": "stdout",
     "output_type": "stream",
     "text": [
      "8 0 6\n",
      "['8 0 6']\n"
     ]
    }
   ],
   "source": [
    "#a = []\n",
    "#b= input()\n",
    "#a.append(b)\n",
    "#print(a)\n",
    "\n"
   ]
  },
  {
   "cell_type": "code",
   "execution_count": 16,
   "id": "f818f19c",
   "metadata": {},
   "outputs": [
    {
     "name": "stdout",
     "output_type": "stream",
     "text": [
      "6\n",
      "8\n",
      "List: ['6', '8']\n"
     ]
    }
   ],
   "source": [
    "a = []\n",
    "for i in range(0,2):\n",
    "    item = input()\n",
    "    a.append(item)\n",
    "print(\"List:\", a)"
   ]
  },
  {
   "cell_type": "code",
   "execution_count": null,
   "id": "4981f667",
   "metadata": {},
   "outputs": [],
   "source": []
  }
 ],
 "metadata": {
  "kernelspec": {
   "display_name": "Python 3",
   "language": "python",
   "name": "python3"
  },
  "language_info": {
   "codemirror_mode": {
    "name": "ipython",
    "version": 3
   },
   "file_extension": ".py",
   "mimetype": "text/x-python",
   "name": "python",
   "nbconvert_exporter": "python",
   "pygments_lexer": "ipython3",
   "version": "3.8.8"
  }
 },
 "nbformat": 4,
 "nbformat_minor": 5
}
