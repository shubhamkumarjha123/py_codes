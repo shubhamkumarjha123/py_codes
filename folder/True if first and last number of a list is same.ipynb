{
 "cells": [
  {
   "cell_type": "markdown",
   "id": "4db06e2c",
   "metadata": {},
   "source": [
    "# Given a list of numbers, return True if first and last number of a list is same"
   ]
  },
  {
   "cell_type": "code",
   "execution_count": 6,
   "id": "9eb13d40",
   "metadata": {},
   "outputs": [
    {
     "name": "stdout",
     "output_type": "stream",
     "text": [
      "Given list is  [10, 20, 30, 40, 10]\n",
      "result is True\n"
     ]
    }
   ],
   "source": [
    "def check_if_First_And_Last_Same(numberList):\n",
    "    print(\"Given list is \", numberList)\n",
    "    firstElement = numberList[0]\n",
    "    lastElement = numberList[-1]\n",
    "    if (firstElement == lastElement):\n",
    "        return True\n",
    "    else:\n",
    "        return False\n",
    "\n",
    "numList = [10, 20, 30, 40, 10]\n",
    "print(\"result is\", check_if_First_And_Last_Same(numList))"
   ]
  }
 ],
 "metadata": {
  "kernelspec": {
   "display_name": "Python 3",
   "language": "python",
   "name": "python3"
  },
  "language_info": {
   "codemirror_mode": {
    "name": "ipython",
    "version": 3
   },
   "file_extension": ".py",
   "mimetype": "text/x-python",
   "name": "python",
   "nbconvert_exporter": "python",
   "pygments_lexer": "ipython3",
   "version": "3.8.8"
  }
 },
 "nbformat": 4,
 "nbformat_minor": 5
}
