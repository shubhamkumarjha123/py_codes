{
 "cells": [
  {
   "cell_type": "markdown",
   "id": "45ebf157",
   "metadata": {},
   "source": [
    "# Given a range of the first 50 numbers, Iterate from the start number to the end number, and In each iteration print the sum of the current number and previous number"
   ]
  },
  {
   "cell_type": "code",
   "execution_count": 22,
   "id": "ea3c32c8",
   "metadata": {},
   "outputs": [
    {
     "name": "stdout",
     "output_type": "stream",
     "text": [
      "Printing  current  and  previous  number  sum  in  a  given  range(50)\n",
      "Current Number 0 Previous Number  0  Sum:  0\n",
      "Current Number 1 Previous Number  0  Sum:  1\n",
      "Current Number 2 Previous Number  1  Sum:  3\n",
      "Current Number 3 Previous Number  2  Sum:  5\n",
      "Current Number 4 Previous Number  3  Sum:  7\n",
      "Current Number 5 Previous Number  4  Sum:  9\n",
      "Current Number 6 Previous Number  5  Sum:  11\n",
      "Current Number 7 Previous Number  6  Sum:  13\n",
      "Current Number 8 Previous Number  7  Sum:  15\n",
      "Current Number 9 Previous Number  8  Sum:  17\n",
      "Current Number 10 Previous Number  9  Sum:  19\n",
      "Current Number 11 Previous Number  10  Sum:  21\n",
      "Current Number 12 Previous Number  11  Sum:  23\n",
      "Current Number 13 Previous Number  12  Sum:  25\n",
      "Current Number 14 Previous Number  13  Sum:  27\n",
      "Current Number 15 Previous Number  14  Sum:  29\n",
      "Current Number 16 Previous Number  15  Sum:  31\n",
      "Current Number 17 Previous Number  16  Sum:  33\n",
      "Current Number 18 Previous Number  17  Sum:  35\n",
      "Current Number 19 Previous Number  18  Sum:  37\n",
      "Current Number 20 Previous Number  19  Sum:  39\n",
      "Current Number 21 Previous Number  20  Sum:  41\n",
      "Current Number 22 Previous Number  21  Sum:  43\n",
      "Current Number 23 Previous Number  22  Sum:  45\n",
      "Current Number 24 Previous Number  23  Sum:  47\n",
      "Current Number 25 Previous Number  24  Sum:  49\n",
      "Current Number 26 Previous Number  25  Sum:  51\n",
      "Current Number 27 Previous Number  26  Sum:  53\n",
      "Current Number 28 Previous Number  27  Sum:  55\n",
      "Current Number 29 Previous Number  28  Sum:  57\n",
      "Current Number 30 Previous Number  29  Sum:  59\n",
      "Current Number 31 Previous Number  30  Sum:  61\n",
      "Current Number 32 Previous Number  31  Sum:  63\n",
      "Current Number 33 Previous Number  32  Sum:  65\n",
      "Current Number 34 Previous Number  33  Sum:  67\n",
      "Current Number 35 Previous Number  34  Sum:  69\n",
      "Current Number 36 Previous Number  35  Sum:  71\n",
      "Current Number 37 Previous Number  36  Sum:  73\n",
      "Current Number 38 Previous Number  37  Sum:  75\n",
      "Current Number 39 Previous Number  38  Sum:  77\n",
      "Current Number 40 Previous Number  39  Sum:  79\n",
      "Current Number 41 Previous Number  40  Sum:  81\n",
      "Current Number 42 Previous Number  41  Sum:  83\n",
      "Current Number 43 Previous Number  42  Sum:  85\n",
      "Current Number 44 Previous Number  43  Sum:  87\n",
      "Current Number 45 Previous Number  44  Sum:  89\n",
      "Current Number 46 Previous Number  45  Sum:  91\n",
      "Current Number 47 Previous Number  46  Sum:  93\n",
      "Current Number 48 Previous Number  47  Sum:  95\n",
      "Current Number 49 Previous Number  48  Sum:  97\n"
     ]
    }
   ],
   "source": [
    "def sumNum(num):\n",
    "    previousNum = 0\n",
    "    for i in range(num):\n",
    "        sum = previousNum + i\n",
    "        print(\"Current Number\", i, \"Previous Number \", previousNum ,\" Sum: \", sum)\n",
    "        previousNum = i\n",
    "\n",
    "print(\"Printing  current  and  previous  number  sum  in  a  given  range(50)\")\n",
    "sumNum(50)"
   ]
  },
  {
   "cell_type": "code",
   "execution_count": null,
   "id": "abf10cd2",
   "metadata": {},
   "outputs": [],
   "source": []
  }
 ],
 "metadata": {
  "kernelspec": {
   "display_name": "Python 3",
   "language": "python",
   "name": "python3"
  },
  "language_info": {
   "codemirror_mode": {
    "name": "ipython",
    "version": 3
   },
   "file_extension": ".py",
   "mimetype": "text/x-python",
   "name": "python",
   "nbconvert_exporter": "python",
   "pygments_lexer": "ipython3",
   "version": "3.8.8"
  }
 },
 "nbformat": 4,
 "nbformat_minor": 5
}
