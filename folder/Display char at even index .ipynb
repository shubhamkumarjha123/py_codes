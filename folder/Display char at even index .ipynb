{
 "cells": [
  {
   "cell_type": "markdown",
   "id": "ad100964",
   "metadata": {},
   "source": [
    "# For a string, display char that present at even index "
   ]
  },
  {
   "cell_type": "code",
   "execution_count": 3,
   "id": "b8377928",
   "metadata": {},
   "outputs": [
    {
     "name": "stdout",
     "output_type": "stream",
     "text": [
      "enter charhelloworld\n",
      "Orginal String is  helloworld\n",
      "Printing only even index chars\n",
      "index[ 0 ] h\n",
      "index[ 2 ] l\n",
      "index[ 4 ] o\n",
      "index[ 6 ] o\n",
      "index[ 8 ] l\n"
     ]
    }
   ],
   "source": [
    "def EveIndexChar(str):\n",
    "  for i in range(0, len(str)-1, 2):\n",
    "    print(\"index[\",i,\"]\", str[i] )\n",
    "\n",
    "inputStr = str(input(\"enter char\"))\n",
    "print(\"Orginal String is \", inputStr)\n",
    "\n",
    "print(\"Print even index chars\")\n",
    "printEveIndexChar(inputStr)"
   ]
  }
 ],
 "metadata": {
  "kernelspec": {
   "display_name": "Python 3",
   "language": "python",
   "name": "python3"
  },
  "language_info": {
   "codemirror_mode": {
    "name": "ipython",
    "version": 3
   },
   "file_extension": ".py",
   "mimetype": "text/x-python",
   "name": "python",
   "nbconvert_exporter": "python",
   "pygments_lexer": "ipython3",
   "version": "3.8.8"
  }
 },
 "nbformat": 4,
 "nbformat_minor": 5
}
