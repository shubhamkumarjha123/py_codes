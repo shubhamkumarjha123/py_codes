{
 "cells": [
  {
   "cell_type": "markdown",
   "id": "11fc8093",
   "metadata": {},
   "source": [
    "# Calculate multiplication of two random float numbers                                        (Note:-First random float number must be between 0.1 and 1 ; Second random float number must be between 9.5 and 99.5)"
   ]
  },
  {
   "cell_type": "code",
   "execution_count": 5,
   "id": "5f1ad13d",
   "metadata": {},
   "outputs": [
    {
     "name": "stdout",
     "output_type": "stream",
     "text": [
      "First Random float is  0.558648373725498\n",
      "Second Random float is  71.99862783583606\n",
      "Multiplication is  40.22191635095719\n"
     ]
    }
   ],
   "source": [
    "import random\n",
    "\n",
    "num1  = random.random()\n",
    "print(\"First Random float is \", num1)\n",
    "num2 = random.uniform(9.5, 99.5)\n",
    "print(\"Second Random float is \", num2)\n",
    "num3 = num1 * num2\n",
    "print(\"Multiplication is \", num3)"
   ]
  },
  {
   "cell_type": "code",
   "execution_count": null,
   "id": "b71ed1aa",
   "metadata": {},
   "outputs": [],
   "source": []
  }
 ],
 "metadata": {
  "kernelspec": {
   "display_name": "Python 3",
   "language": "python",
   "name": "python3"
  },
  "language_info": {
   "codemirror_mode": {
    "name": "ipython",
    "version": 3
   },
   "file_extension": ".py",
   "mimetype": "text/x-python",
   "name": "python",
   "nbconvert_exporter": "python",
   "pygments_lexer": "ipython3",
   "version": "3.8.8"
  }
 },
 "nbformat": 4,
 "nbformat_minor": 5
}
