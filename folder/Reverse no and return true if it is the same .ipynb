{
 "cells": [
  {
   "cell_type": "markdown",
   "id": "71b1be91",
   "metadata": {},
   "source": [
    "# Reverse no and return true if it is the same "
   ]
  },
  {
   "cell_type": "code",
   "execution_count": 2,
   "id": "64a5ba5f",
   "metadata": {},
   "outputs": [
    {
     "name": "stdout",
     "output_type": "stream",
     "text": [
      "original number 121\n",
      "The original and reverse number is the same: True\n"
     ]
    }
   ],
   "source": [
    "def reverseCheck(number):\n",
    "    print(\"original number\", number)\n",
    "    originalNum = number\n",
    "    reverseNum = 0\n",
    "    while (number > 0):\n",
    "        reminder = number % 10\n",
    "        reverseNum = (reverseNum * 10) + reminder\n",
    "        number = number // 10\n",
    "    if (originalNum == reverseNum):\n",
    "        return True\n",
    "    else:\n",
    "        return False\n",
    "\n",
    "print(\"The original and reverse number is the same:\", reverseCheck(121))\n",
    "\n",
    " "
   ]
  },
  {
   "cell_type": "code",
   "execution_count": null,
   "id": "a905f06a",
   "metadata": {},
   "outputs": [],
   "source": []
  }
 ],
 "metadata": {
  "kernelspec": {
   "display_name": "Python 3",
   "language": "python",
   "name": "python3"
  },
  "language_info": {
   "codemirror_mode": {
    "name": "ipython",
    "version": 3
   },
   "file_extension": ".py",
   "mimetype": "text/x-python",
   "name": "python",
   "nbconvert_exporter": "python",
   "pygments_lexer": "ipython3",
   "version": "3.8.8"
  }
 },
 "nbformat": 4,
 "nbformat_minor": 5
}
