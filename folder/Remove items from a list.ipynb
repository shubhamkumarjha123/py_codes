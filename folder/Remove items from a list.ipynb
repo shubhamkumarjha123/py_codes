{
 "cells": [
  {
   "cell_type": "markdown",
   "id": "1ee81be5",
   "metadata": {},
   "source": [
    "# Remove items from a list while iterating but without creating different copy of a list  (Here remove no greater than 70)"
   ]
  },
  {
   "cell_type": "code",
   "execution_count": 4,
   "id": "2f2235d6",
   "metadata": {},
   "outputs": [
    {
     "name": "stdout",
     "output_type": "stream",
     "text": [
      "[10, 20, 30, 40, 50, 60, 70]\n"
     ]
    }
   ],
   "source": [
    "number_list = [10, 20, 30, 40, 50, 60, 70, 80, 90, 100]\n",
    "i = 0\n",
    "\n",
    "n = len(number_list)\n",
    "# iterate list till i is smaller than n\n",
    "while i < n:\n",
    "    # check if number is greater than 50\n",
    "    if number_list[i] > 70:\n",
    "        # delete current index from list\n",
    "        del number_list[i]\n",
    "        # reduce the list size\n",
    "        n = n - 1\n",
    "    else:\n",
    "        # move to next item\n",
    "        i = i + 1\n",
    "print(number_list)"
   ]
  },
  {
   "cell_type": "code",
   "execution_count": null,
   "id": "24c6556d",
   "metadata": {},
   "outputs": [],
   "source": []
  }
 ],
 "metadata": {
  "kernelspec": {
   "display_name": "Python 3",
   "language": "python",
   "name": "python3"
  },
  "language_info": {
   "codemirror_mode": {
    "name": "ipython",
    "version": 3
   },
   "file_extension": ".py",
   "mimetype": "text/x-python",
   "name": "python",
   "nbconvert_exporter": "python",
   "pygments_lexer": "ipython3",
   "version": "3.8.8"
  }
 },
 "nbformat": 4,
 "nbformat_minor": 5
}
