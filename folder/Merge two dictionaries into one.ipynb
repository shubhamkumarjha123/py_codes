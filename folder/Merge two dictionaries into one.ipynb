{
 "cells": [
  {
   "cell_type": "markdown",
   "id": "f4a131bd",
   "metadata": {},
   "source": [
    "# Merge two dictionaries into one"
   ]
  },
  {
   "cell_type": "code",
   "execution_count": 4,
   "id": "1daf4d02",
   "metadata": {},
   "outputs": [
    {
     "name": "stdout",
     "output_type": "stream",
     "text": [
      "{'Zero': 0, 'One': 1, 'Two': 2, 'Three': 3, 'Four': 4, 'Five': 5}\n"
     ]
    }
   ],
   "source": [
    "dic1 = {'Zero': 0, 'One': 1, 'Two': 2}\n",
    "dic2 = {'Three': 3, 'Four': 4, 'Five': 5}\n",
    "newdict = {**dic1, **dic2}\n",
    "print(newdict)"
   ]
  },
  {
   "cell_type": "code",
   "execution_count": null,
   "id": "0c1d83c8",
   "metadata": {},
   "outputs": [],
   "source": []
  }
 ],
 "metadata": {
  "kernelspec": {
   "display_name": "Python 3",
   "language": "python",
   "name": "python3"
  },
  "language_info": {
   "codemirror_mode": {
    "name": "ipython",
    "version": 3
   },
   "file_extension": ".py",
   "mimetype": "text/x-python",
   "name": "python",
   "nbconvert_exporter": "python",
   "pygments_lexer": "ipython3",
   "version": "3.8.8"
  }
 },
 "nbformat": 4,
 "nbformat_minor": 5
}
