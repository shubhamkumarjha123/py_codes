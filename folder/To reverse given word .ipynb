{
 "cells": [
  {
   "cell_type": "markdown",
   "id": "2bc9e28f",
   "metadata": {},
   "source": [
    "# To reverse given word "
   ]
  },
  {
   "cell_type": "code",
   "execution_count": 6,
   "id": "b16864ff",
   "metadata": {},
   "outputs": [
    {
     "name": "stdout",
     "output_type": "stream",
     "text": [
      "yM emaN si mahbuhs\n"
     ]
    }
   ],
   "source": [
    "def rev(Sentence):\n",
    "    \n",
    "    words = Sentence.split(\" \")\n",
    "    \n",
    "    # iterate list and reverse each word using ::-1\n",
    "    new_word_list = [word[::-1] for word in words]\n",
    "    \n",
    "    # to jpin the new list of words\n",
    "    res_str = \" \".join(new_word_list)\n",
    "    return res_str\n",
    "str1 = \"My Name is shubham\"\n",
    "print(rev(str1))"
   ]
  },
  {
   "cell_type": "code",
   "execution_count": null,
   "id": "366d6349",
   "metadata": {},
   "outputs": [],
   "source": []
  }
 ],
 "metadata": {
  "kernelspec": {
   "display_name": "Python 3",
   "language": "python",
   "name": "python3"
  },
  "language_info": {
   "codemirror_mode": {
    "name": "ipython",
    "version": 3
   },
   "file_extension": ".py",
   "mimetype": "text/x-python",
   "name": "python",
   "nbconvert_exporter": "python",
   "pygments_lexer": "ipython3",
   "version": "3.8.8"
  }
 },
 "nbformat": 4,
 "nbformat_minor": 5
}
