{
 "cells": [
  {
   "cell_type": "markdown",
   "id": "6e683229",
   "metadata": {},
   "source": [
    "# current date and time in Py"
   ]
  },
  {
   "cell_type": "code",
   "execution_count": 1,
   "id": "f13c9794",
   "metadata": {},
   "outputs": [
    {
     "name": "stdout",
     "output_type": "stream",
     "text": [
      "2021-10-07 23:34:47.885625\n",
      "23:34:47.886629\n"
     ]
    }
   ],
   "source": [
    "# Import library \n",
    "import datetime \n",
    "# Print date and time\n",
    "print(datetime.datetime.now())\n",
    "# only time\n",
    "print(datetime.datetime.now().time())"
   ]
  },
  {
   "cell_type": "code",
   "execution_count": null,
   "id": "6a4725a6",
   "metadata": {},
   "outputs": [],
   "source": []
  }
 ],
 "metadata": {
  "kernelspec": {
   "display_name": "Python 3",
   "language": "python",
   "name": "python3"
  },
  "language_info": {
   "codemirror_mode": {
    "name": "ipython",
    "version": 3
   },
   "file_extension": ".py",
   "mimetype": "text/x-python",
   "name": "python",
   "nbconvert_exporter": "python",
   "pygments_lexer": "ipython3",
   "version": "3.8.8"
  }
 },
 "nbformat": 4,
 "nbformat_minor": 5
}
