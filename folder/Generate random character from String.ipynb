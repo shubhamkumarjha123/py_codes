{
 "cells": [
  {
   "cell_type": "markdown",
   "id": "7f81ab18",
   "metadata": {},
   "source": [
    "# Generate random character from String"
   ]
  },
  {
   "cell_type": "code",
   "execution_count": 9,
   "id": "b2307932",
   "metadata": {},
   "outputs": [
    {
     "name": "stdout",
     "output_type": "stream",
     "text": [
      "hello\n",
      "random char is:-  o\n"
     ]
    }
   ],
   "source": [
    "import random\n",
    "a = input()\n",
    "char = random.choice(a)\n",
    "print(\"random char is:- \", char)"
   ]
  },
  {
   "cell_type": "code",
   "execution_count": null,
   "id": "a3efd371",
   "metadata": {},
   "outputs": [],
   "source": []
  }
 ],
 "metadata": {
  "kernelspec": {
   "display_name": "Python 3",
   "language": "python",
   "name": "python3"
  },
  "language_info": {
   "codemirror_mode": {
    "name": "ipython",
    "version": 3
   },
   "file_extension": ".py",
   "mimetype": "text/x-python",
   "name": "python",
   "nbconvert_exporter": "python",
   "pygments_lexer": "ipython3",
   "version": "3.8.8"
  }
 },
 "nbformat": 4,
 "nbformat_minor": 5
}
