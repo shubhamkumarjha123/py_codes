{
 "cells": [
  {
   "cell_type": "markdown",
   "id": "faf6361a",
   "metadata": {},
   "source": [
    "# Make a inner fun"
   ]
  },
  {
   "cell_type": "code",
   "execution_count": 5,
   "id": "03b10b4b",
   "metadata": {},
   "outputs": [
    {
     "name": "stdout",
     "output_type": "stream",
     "text": [
      "MyName-Shubham\n"
     ]
    }
   ],
   "source": [
    "def manipulate(x, y):\n",
    "    # concatenate two strings\n",
    "    def inner_fun(x, y):\n",
    "        return x + y\n",
    "\n",
    "    z = inner_fun(x, y)\n",
    "    return z + 'Shubham'\n",
    "\n",
    "result = manipulate('My', 'Name-')\n",
    "print(result)"
   ]
  }
 ],
 "metadata": {
  "kernelspec": {
   "display_name": "Python 3",
   "language": "python",
   "name": "python3"
  },
  "language_info": {
   "codemirror_mode": {
    "name": "ipython",
    "version": 3
   },
   "file_extension": ".py",
   "mimetype": "text/x-python",
   "name": "python",
   "nbconvert_exporter": "python",
   "pygments_lexer": "ipython3",
   "version": "3.8.8"
  }
 },
 "nbformat": 4,
 "nbformat_minor": 5
}
