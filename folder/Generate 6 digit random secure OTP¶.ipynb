{
 "cells": [
  {
   "cell_type": "markdown",
   "id": "13d542fb",
   "metadata": {},
   "source": [
    "\n",
    "# Generate 6 digit random secure OTP"
   ]
  },
  {
   "cell_type": "code",
   "execution_count": 2,
   "id": "a9592a0b",
   "metadata": {},
   "outputs": [
    {
     "name": "stdout",
     "output_type": "stream",
     "text": [
      "Generating 6 digit random OTP\n",
      "Secure random OTP is  254558\n"
     ]
    }
   ],
   "source": [
    "import secrets\n",
    "\n",
    "#Getting systemRandom class instance out of secrets module\n",
    "secretsGenerator = secrets.SystemRandom()\n",
    "\n",
    "print(\"Generating 6 digit random OTP\")\n",
    "otp = secretsGenerator.randrange(100000, 999999)\n",
    "\n",
    "print(\"Secure random OTP is \", otp)"
   ]
  },
  {
   "cell_type": "code",
   "execution_count": null,
   "id": "67aada08",
   "metadata": {},
   "outputs": [],
   "source": []
  }
 ],
 "metadata": {
  "kernelspec": {
   "display_name": "Python 3",
   "language": "python",
   "name": "python3"
  },
  "language_info": {
   "codemirror_mode": {
    "name": "ipython",
    "version": 3
   },
   "file_extension": ".py",
   "mimetype": "text/x-python",
   "name": "python",
   "nbconvert_exporter": "python",
   "pygments_lexer": "ipython3",
   "version": "3.8.8"
  }
 },
 "nbformat": 4,
 "nbformat_minor": 5
}
