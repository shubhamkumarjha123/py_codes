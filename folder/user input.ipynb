{
 "cells": [
  {
   "cell_type": "markdown",
   "id": "eaaca81b",
   "metadata": {},
   "source": [
    "# User input "
   ]
  },
  {
   "cell_type": "code",
   "execution_count": 1,
   "id": "67075b49",
   "metadata": {},
   "outputs": [
    {
     "name": "stdout",
     "output_type": "stream",
     "text": [
      "Enter first number 7\n",
      "Enter second number 5\n",
      "Multiplication of 2 no's are :-  35\n"
     ]
    }
   ],
   "source": [
    "a_no = int(input(\"Enter first number \"))\n",
    "b_no = int(input(\"Enter second number \"))\n",
    "\n",
    "result = a_no * b_no\n",
    "print(\"Multiplication of 2 no's are :- \", result)\n"
   ]
  },
  {
   "cell_type": "code",
   "execution_count": null,
   "id": "30bc1ebd",
   "metadata": {},
   "outputs": [],
   "source": []
  }
 ],
 "metadata": {
  "kernelspec": {
   "display_name": "Python 3",
   "language": "python",
   "name": "python3"
  },
  "language_info": {
   "codemirror_mode": {
    "name": "ipython",
    "version": 3
   },
   "file_extension": ".py",
   "mimetype": "text/x-python",
   "name": "python",
   "nbconvert_exporter": "python",
   "pygments_lexer": "ipython3",
   "version": "3.8.8"
  }
 },
 "nbformat": 4,
 "nbformat_minor": 5
}
