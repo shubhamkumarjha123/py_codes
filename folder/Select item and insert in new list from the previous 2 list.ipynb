{
 "cells": [
  {
   "cell_type": "markdown",
   "id": "c62da79e",
   "metadata": {},
   "source": [
    "# With two provided list create one list such that new list contain only odd numbers from the first list and even numbers from the second list\n"
   ]
  },
  {
   "cell_type": "code",
   "execution_count": 3,
   "id": "557762d9",
   "metadata": {},
   "outputs": [
    {
     "name": "stdout",
     "output_type": "stream",
     "text": [
      "First  [4, 5, 22, 17, 62]\n",
      "Second  [16, 1, 2, 7, 44]\n",
      "result List is [5, 17, 16, 2, 44]\n"
     ]
    }
   ],
   "source": [
    "def merg(One, Two):\n",
    "    print(\"First \", One)\n",
    "    print(\"Second \", Two)\n",
    "    thirdList = []\n",
    "    \n",
    "    for i in One:\n",
    "        if (i % 2 != 0):\n",
    "            thirdList.append(i)\n",
    "    for i in Two:\n",
    "        if (i % 2 == 0):\n",
    "            thirdList.append(i)\n",
    "    return thirdList\n",
    "\n",
    "One = [4, 5, 22, 17, 62]\n",
    "Two = [16, 1, 2, 7, 44]\n",
    "\n",
    "print(\"result List is\", merg(One, Two))"
   ]
  },
  {
   "cell_type": "code",
   "execution_count": null,
   "id": "1274c63c",
   "metadata": {},
   "outputs": [],
   "source": []
  }
 ],
 "metadata": {
  "kernelspec": {
   "display_name": "Python 3",
   "language": "python",
   "name": "python3"
  },
  "language_info": {
   "codemirror_mode": {
    "name": "ipython",
    "version": 3
   },
   "file_extension": ".py",
   "mimetype": "text/x-python",
   "name": "python",
   "nbconvert_exporter": "python",
   "pygments_lexer": "ipython3",
   "version": "3.8.8"
  }
 },
 "nbformat": 4,
 "nbformat_minor": 5
}
