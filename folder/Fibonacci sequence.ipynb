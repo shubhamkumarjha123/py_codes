{
 "cells": [
  {
   "cell_type": "markdown",
   "metadata": {},
   "source": [
    "# Fibonacci sequence"
   ]
  },
  {
   "cell_type": "code",
   "execution_count": 28,
   "metadata": {},
   "outputs": [
    {
     "name": "stdout",
     "output_type": "stream",
     "text": [
      "No of terms you want to print \t9\n",
      "The fibonacci sequence of the numbers is:\n",
      "0\n",
      "1\n",
      "1\n",
      "2\n",
      "3\n",
      "5\n",
      "8\n",
      "13\n",
      "21\n"
     ]
    }
   ],
   "source": [
    "no_of_terms = int(input (\"No of terms you want to print \\t\"))  \n",
    "     \n",
    "# First two terms  \n",
    "a = 0  \n",
    "b = 1  \n",
    "count = 0  \n",
    "      \n",
    "#check if the number of terms is valid or not  \n",
    "if no_of_terms <= 0:  \n",
    "    print (\"Accepts only positive integer\")  \n",
    "# if there is only one term, it will return n_1  \n",
    "elif no_of_terms == 1:\n",
    "    print (\"The Fibonacci sequence of the numbers up to\", no_of_terms, \": \")  \n",
    "    print(a)  \n",
    "# Then we will generate Fibonacci sequence of number  \n",
    "else:  \n",
    "    print (\"The fibonacci sequence of the numbers is:\")  \n",
    "    while count < no_of_terms:  \n",
    "        print(a)  \n",
    "        nth = a + b  \n",
    "        # At last, we will update values  \n",
    "        a = b  \n",
    "        b = nth  \n",
    "        count += 1  "
   ]
  },
  {
   "cell_type": "code",
   "execution_count": null,
   "metadata": {},
   "outputs": [],
   "source": []
  }
 ],
 "metadata": {
  "kernelspec": {
   "display_name": "Python 3",
   "language": "python",
   "name": "python3"
  },
  "language_info": {
   "codemirror_mode": {
    "name": "ipython",
    "version": 3
   },
   "file_extension": ".py",
   "mimetype": "text/x-python",
   "name": "python",
   "nbconvert_exporter": "python",
   "pygments_lexer": "ipython3",
   "version": "3.7.4"
  }
 },
 "nbformat": 4,
 "nbformat_minor": 2
}
