{
 "cells": [
  {
   "cell_type": "code",
   "execution_count": 45,
   "metadata": {},
   "outputs": [
    {
     "name": "stdout",
     "output_type": "stream",
     "text": [
      "*\r\n",
      "**\r\n",
      "***\r\n",
      "****\r\n",
      "*****\r\n",
      "******\r\n",
      "*******\r\n",
      "********\r\n",
      "*********\r\n",
      "**********\r\n",
      "***********\r\n",
      "************\r\n",
      "*************\r\n",
      "**************\r\n",
      "***************\r\n",
      "****************\r\n",
      "*****************\r\n",
      "******************\r\n",
      "*******************\r\n",
      "********************\r\n"
     ]
    }
   ],
   "source": [
    "def part1(n):\n",
    "\n",
    "    for i in range(0, n):\n",
    "# inner loop to handle number of columns\n",
    "# values changing acc. to outer loop\n",
    "        for j in range(0, i+1):\n",
    "            print(\"*\",end=\"\") \n",
    "# ending line after each row\n",
    "        print(\"\\r\")\n",
    "       \n",
    "n = 20\n",
    "part1(n)"
   ]
  },
  {
   "cell_type": "code",
   "execution_count": 46,
   "metadata": {},
   "outputs": [
    {
     "name": "stdout",
     "output_type": "stream",
     "text": [
      " * \r\n",
      " *  * \r\n",
      " *  *  * \r\n",
      " *  *  *  * \r\n",
      " *  *  *  *  * \r\n",
      " *  *  *  *  *  * \r\n",
      " *  *  *  *  *  *  * \r\n",
      " *  *  *  *  *  *  *  * \r\n",
      " *  *  *  *  *  *  *  *  * \r\n",
      " *  *  *  *  *  *  *  *  *  * \r\n",
      " *  *  *  *  *  *  *  *  *  *  * \r\n",
      " *  *  *  *  *  *  *  *  *  *  *  * \r\n",
      " *  *  *  *  *  *  *  *  *  *  *  *  * \r\n",
      " *  *  *  *  *  *  *  *  *  *  *  *  *  * \r\n",
      " *  *  *  *  *  *  *  *  *  *  *  *  *  *  * \r\n",
      " *  *  *  *  *  *  *  *  *  *  *  *  *  *  *  * \r\n",
      " *  *  *  *  *  *  *  *  *  *  *  *  *  *  *  *  * \r\n",
      " *  *  *  *  *  *  *  *  *  *  *  *  *  *  *  *  *  * \r\n",
      " *  *  *  *  *  *  *  *  *  *  *  *  *  *  *  *  *  *  * \r\n",
      " *  *  *  *  *  *  *  *  *  *  *  *  *  *  *  *  *  *  *  * \r\n"
     ]
    }
   ],
   "source": [
    "def part2(n):\n",
    "\n",
    "    for i in range(0, n):\n",
    "# inner loop to handle number of columns\n",
    "# values changing acc. to outer loop\n",
    "        for j in range(0, i+1):\n",
    "            print(\" * \",end=\"\") \n",
    "# ending line after each row\n",
    "        print(\"\\r\")\n",
    "       \n",
    "n = 20\n",
    "part2(n)"
   ]
  },
  {
   "cell_type": "code",
   "execution_count": 47,
   "metadata": {},
   "outputs": [
    {
     "name": "stdout",
     "output_type": "stream",
     "text": [
      "  *  \r\n",
      "  *    *  \r\n",
      "  *    *    *  \r\n",
      "  *    *    *    *  \r\n",
      "  *    *    *    *    *  \r\n",
      "  *    *    *    *    *    *  \r\n",
      "  *    *    *    *    *    *    *  \r\n",
      "  *    *    *    *    *    *    *    *  \r\n",
      "  *    *    *    *    *    *    *    *    *  \r\n",
      "  *    *    *    *    *    *    *    *    *    *  \r\n",
      "  *    *    *    *    *    *    *    *    *    *    *  \r\n",
      "  *    *    *    *    *    *    *    *    *    *    *    *  \r\n",
      "  *    *    *    *    *    *    *    *    *    *    *    *    *  \r\n",
      "  *    *    *    *    *    *    *    *    *    *    *    *    *    *  \r\n",
      "  *    *    *    *    *    *    *    *    *    *    *    *    *    *    *  \r\n",
      "  *    *    *    *    *    *    *    *    *    *    *    *    *    *    *    *  \r\n",
      "  *    *    *    *    *    *    *    *    *    *    *    *    *    *    *    *    *  \r\n",
      "  *    *    *    *    *    *    *    *    *    *    *    *    *    *    *    *    *    *  \r\n",
      "  *    *    *    *    *    *    *    *    *    *    *    *    *    *    *    *    *    *    *  \r\n",
      "  *    *    *    *    *    *    *    *    *    *    *    *    *    *    *    *    *    *    *    *  \r\n"
     ]
    }
   ],
   "source": [
    "def part3(n):\n",
    "\n",
    "    for i in range(0, n):\n",
    "# inner loop to handle number of columns\n",
    "# values changing acc. to outer loop\n",
    "        for j in range(0, i+1):\n",
    "            print(\"  *  \",end=\"\") \n",
    "# ending line after each row\n",
    "        print(\"\\r\")\n",
    "       \n",
    "n = 20\n",
    "part3(n)"
   ]
  }
 ],
 "metadata": {
  "kernelspec": {
   "display_name": "Python 3",
   "language": "python",
   "name": "python3"
  },
  "language_info": {
   "codemirror_mode": {
    "name": "ipython",
    "version": 3
   },
   "file_extension": ".py",
   "mimetype": "text/x-python",
   "name": "python",
   "nbconvert_exporter": "python",
   "pygments_lexer": "ipython3",
   "version": "3.7.4"
  }
 },
 "nbformat": 4,
 "nbformat_minor": 2
}
