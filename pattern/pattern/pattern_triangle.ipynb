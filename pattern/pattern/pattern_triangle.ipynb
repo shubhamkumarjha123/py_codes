{
 "cells": [
  {
   "cell_type": "code",
   "execution_count": 1,
   "metadata": {},
   "outputs": [
    {
     "name": "stdout",
     "output_type": "stream",
     "text": [
      "                  *   \r\n",
      "                *   *   \r\n",
      "              *   *   *   \r\n",
      "            *   *   *   *   \r\n",
      "          *   *   *   *   *   \r\n",
      "        *   *   *   *   *   *   \r\n",
      "      *   *   *   *   *   *   *   \r\n",
      "    *   *   *   *   *   *   *   *   \r\n",
      "  *   *   *   *   *   *   *   *   *   \r\n",
      "*   *   *   *   *   *   *   *   *   *   \r\n"
     ]
    }
   ],
   "source": [
    "def part6(n):\n",
    "\t\n",
    "\t# number of spaces\n",
    "\tk = 2*n - 2\n",
    "\n",
    "\t# outer loop to handle number of rows\n",
    "\tfor i in range(0, n):\n",
    "\t\n",
    "\t\t# inner loop to handle number spaces\n",
    "\t\t# values changing acc. to requirement\n",
    "\t\tfor j in range(0, k):\n",
    "\t\t\tprint(end=\" \")\n",
    "\t\n",
    "\t\t# decrementing k after each loop\n",
    "\t\tk = k - 2\n",
    "\t\n",
    "\t\t# inner loop to handle number of columns\n",
    "\t\t# values changing acc. to outer loop\n",
    "\t\tfor j in range(0, i+1):\n",
    "\t\t\n",
    "\t\t\t# printing stars\n",
    "\t\t\tprint(\"*   \", end=\"\")\n",
    "\t\n",
    "\t\t# ending line after each row\n",
    "\t\tprint(\"\\r\")\n",
    "\n",
    "# Driver Code\n",
    "n = 10\n",
    "part6(n)\n"
   ]
  },
  {
   "cell_type": "code",
   "execution_count": null,
   "metadata": {},
   "outputs": [],
   "source": []
  }
 ],
 "metadata": {
  "kernelspec": {
   "display_name": "Python 3",
   "language": "python",
   "name": "python3"
  },
  "language_info": {
   "codemirror_mode": {
    "name": "ipython",
    "version": 3
   },
   "file_extension": ".py",
   "mimetype": "text/x-python",
   "name": "python",
   "nbconvert_exporter": "python",
   "pygments_lexer": "ipython3",
   "version": "3.7.4"
  }
 },
 "nbformat": 4,
 "nbformat_minor": 2
}
